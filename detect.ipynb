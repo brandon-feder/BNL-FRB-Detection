{
 "cells": [
  {
   "cell_type": "code",
   "execution_count": 326,
   "id": "1cf4f031",
   "metadata": {},
   "outputs": [],
   "source": [
    "FILE_PATH = \"./test-data/data1.json\"\n",
    "ANGLE_ACCURACY = 100"
   ]
  },
  {
   "cell_type": "code",
   "execution_count": 327,
   "id": "42777be6",
   "metadata": {},
   "outputs": [],
   "source": [
    "import json\n",
    "import sys\n",
    "import numpy as np\n",
    "from math import *\n",
    "from matplotlib import pyplot as plt"
   ]
  },
  {
   "cell_type": "code",
   "execution_count": 328,
   "id": "c52b9a7d",
   "metadata": {},
   "outputs": [
    {
     "name": "stdout",
     "output_type": "stream",
     "text": [
      "Processing test data file ./test-data/data1.json\n"
     ]
    }
   ],
   "source": [
    "print(\"Processing test data file {}\".format(FILE_PATH))"
   ]
  },
  {
   "cell_type": "code",
   "execution_count": 329,
   "id": "f79ec14f",
   "metadata": {},
   "outputs": [],
   "source": [
    "# Open the json file to read the data\n",
    "with open(FILE_PATH) as f:\n",
    "    raw_data = json.load(f)\n",
    "    img = np.array(raw_data[\"data\"])\n",
    "    angle = raw_data[\"angle\"]\n",
    "    width, height = raw_data[\"width\"], raw_data[\"height\"]"
   ]
  },
  {
   "cell_type": "code",
   "execution_count": 330,
   "id": "92806770",
   "metadata": {},
   "outputs": [
    {
     "name": "stdout",
     "output_type": "stream",
     "text": [
      "Angle (radians): 2.357\n"
     ]
    },
    {
     "data": {
      "image/png": "[encoded data removed]",
      "text/plain": [
       "<Figure size 432x288 with 1 Axes>"
      ]
     },
     "metadata": {
      "needs_background": "light"
     },
     "output_type": "display_data"
    }
   ],
   "source": [
    "# Show the image\n",
    "plt.imshow(img)\n",
    "print(\"Angle (radians):\", round(angle*1000)/1000)"
   ]
  },
  {
   "cell_type": "code",
   "execution_count": 331,
   "id": "ab3d3baf",
   "metadata": {},
   "outputs": [],
   "source": [
    "angle_strength = np.zeros(ANGLE_ACCURACY)\n",
    "for x in range(width):\n",
    "    for y in range(height):\n",
    "        theta = atan2(y-height//2, x-width//2)\n",
    "        \n",
    "        theta %= pi\n",
    "        theta = pi - theta - 0.000001\n",
    "#         if theta > pi:\n",
    "#             theta -= pi\n",
    "        angle_strength[int(round( ANGLE_ACCURACY * ((theta/pi)) ))%ANGLE_ACCURACY] += img[x][y]"
   ]
  },
  {
   "cell_type": "code",
   "execution_count": 332,
   "id": "c2fa7ab9",
   "metadata": {},
   "outputs": [
    {
     "data": {
      "text/plain": [
       "[<matplotlib.lines.Line2D at 0x1378511f0>]"
      ]
     },
     "execution_count": 332,
     "metadata": {},
     "output_type": "execute_result"
    },
    {
     "data": {
      "image/png": "[encoded data removed]",
      "text/plain": [
       "<Figure size 432x288 with 1 Axes>"
      ]
     },
     "metadata": {
      "needs_background": "light"
     },
     "output_type": "display_data"
    }
   ],
   "source": [
    "plt.plot(np.linspace(0, pi, num=ANGLE_ACCURACY), angle_strength)"
   ]
  },
  {
   "cell_type": "code",
   "execution_count": 334,
   "id": "09d9e314",
   "metadata": {},
   "outputs": [
    {
     "name": "stdout",
     "output_type": "stream",
     "text": [
      "Detected Angle: [2.35619449]\n"
     ]
    }
   ],
   "source": [
    "m = max(angle_strength)\n",
    "detected = pi * np.where(angle_strength == m)[0]/ANGLE_ACCURACY\n",
    "print(\"Detected Angle: {}\".format(detected))"
   ]
  },
  {
   "cell_type": "code",
   "execution_count": null,
   "id": "56f91f85",
   "metadata": {},
   "outputs": [],
   "source": []
  },
  {
   "cell_type": "code",
   "execution_count": null,
   "id": "375f8539",
   "metadata": {},
   "outputs": [],
   "source": []
  },
  {
   "cell_type": "code",
   "execution_count": null,
   "id": "1f3243aa",
   "metadata": {},
   "outputs": [],
   "source": []
  }
 ],
 "metadata": {
  "kernelspec": {
   "display_name": "Python 3 (ipykernel)",
   "language": "python",
   "name": "python3"
  },
  "language_info": {
   "codemirror_mode": {
    "name": "ipython",
    "version": 3
   },
   "file_extension": ".py",
   "mimetype": "text/x-python",
   "name": "python",
   "nbconvert_exporter": "python",
   "pygments_lexer": "ipython3",
   "version": "3.9.6"
  }
 },
 "nbformat": 4,
 "nbformat_minor": 5
}
